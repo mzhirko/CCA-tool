{
  "nbformat": 4,
  "nbformat_minor": 0,
  "metadata": {
    "kernelspec": {
      "display_name": "Python [default]",
      "language": "python",
      "name": "python3"
    },
    "language_info": {
      "codemirror_mode": {
        "name": "ipython",
        "version": 3
      },
      "file_extension": ".py",
      "mimetype": "text/x-python",
      "name": "python",
      "nbconvert_exporter": "python",
      "pygments_lexer": "ipython3",
      "version": "3.5.4"
    },
    "colab": {
      "name": "analysis_automatization_pipeline.ipynb",
      "provenance": [],
      "collapsed_sections": []
    }
  },
  "cells": [
    {
      "cell_type": "markdown",
      "metadata": {
        "id": "dsTwrkRN-scJ"
      },
      "source": [
        "# Attempting to automate analysis creation process "
      ]
    },
    {
      "cell_type": "markdown",
      "metadata": {
        "id": "MY9IVft2-sck"
      },
      "source": [
        "### Text Similarity Approaches"
      ]
    },
    {
      "cell_type": "code",
      "source": [
        "#@title Upload plain text file of excerpts from local machine { display-mode: \"form\" }\n",
        "import re\n",
        "import csv\n",
        "import pandas as pd\n",
        "from google.colab import files\n",
        "uploaded = files.upload()"
      ],
      "metadata": {
        "colab": {
          "base_uri": "https://localhost:8080/",
          "height": 40,
          "resources": {
            "http://localhost:8080/nbextensions/google.colab/files.js": {
              "data": "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",
              "ok": true,
              "headers": [
                [
                  "content-type",
                  "application/javascript"
                ]
              ],
              "status": 200,
              "status_text": "OK"
            }
          }
        },
        "id": "At_bcr4WwLfE",
        "outputId": "ed31e184-c96c-40e7-bcbc-d3301a7391aa"
      },
      "execution_count": null,
      "outputs": [
        {
          "output_type": "display_data",
          "data": {
            "text/plain": [
              "<IPython.core.display.HTML object>"
            ],
            "text/html": [
              "\n",
              "     <input type=\"file\" id=\"files-f88afec2-eabf-48a6-8b06-78010be2e270\" name=\"files[]\" multiple disabled\n",
              "        style=\"border:none\" />\n",
              "     <output id=\"result-f88afec2-eabf-48a6-8b06-78010be2e270\">\n",
              "      Upload widget is only available when the cell has been executed in the\n",
              "      current browser session. Please rerun this cell to enable.\n",
              "      </output>\n",
              "      <script src=\"/nbextensions/google.colab/files.js\"></script> "
            ]
          },
          "metadata": {}
        }
      ]
    },
    {
      "cell_type": "code",
      "source": [
        "#@title Using regex to parse TXT file { display-mode: \"form\" }\n",
        "# create csv out of txt file\n",
        "rx = r\"\\[(.*?)\\]\\s*(?:\\[(.*?)\\])?\\s*(.*?)\\((.*?)\\)\"\n",
        "with open('input.txt', 'r') as f:\n",
        "    with open('output.csv', 'w') as f1:\n",
        "        writer = csv.writer(f1)\n",
        "        writer.writerow(('ID', 'TAG', 'TEXT', 'SOURCE'))\n",
        "        for line in f:\n",
        "            line = line.strip()\n",
        "            if line:\n",
        "                id, tag, text, source = re.findall(rx, line)[0]\n",
        "                writer.writerow([id, tag, text, source])"
      ],
      "metadata": {
        "id": "1aKEbzqhxBYR"
      },
      "execution_count": null,
      "outputs": []
    },
    {
      "cell_type": "code",
      "source": [
        "#@title TXT to CSV file { vertical-output: true, display-mode: \"form\" }\n",
        "display_output = pd.read_csv('output.csv')\n",
        "print(display_output)"
      ],
      "metadata": {
        "colab": {
          "base_uri": "https://localhost:8080/"
        },
        "id": "FvhYkUK75cgJ",
        "outputId": "92fea5de-b124-4dac-fe52-438a6c691d9a"
      },
      "execution_count": null,
      "outputs": [
        {
          "output_type": "stream",
          "name": "stdout",
          "text": [
            "              ID                                                       TAG  \\\n",
            "0   85930-610858                                                       NaN   \n",
            "1   85930-610870                                                       NaN   \n",
            "2   85930-610873                                                 Kiev City   \n",
            "3   85930-610883                       Migrants, refugees, stateless, IDPS   \n",
            "4   85930-610891                                                       NaN   \n",
            "5   85930-610954  Migrants, refugees, stateless, IDPS, Luhanska; Kiev City   \n",
            "6   85930-610957                                  Female head of household   \n",
            "7   85930-610976                                  Female head of household   \n",
            "8   85930-610986                                                 Kiev City   \n",
            "9   85930-612000                  Kharkivska; Luhanska; Khersonska; Sumska   \n",
            "10  85930-632237                 Luhans'k; Kherson; Donets'k; Zaporizhzhya   \n",
            "11  85923-607141                                                       NaN   \n",
            "12  85922-609169         Extreme poverty, insecure & informal work/incomes   \n",
            "13  85914-632031                                                       NaN   \n",
            "14  85914-632078                                                       NaN   \n",
            "\n",
            "                                                                                                                                                                                                       TEXT  \\\n",
            "0   Households that are displaced or those separated from each other were found to be the most impacted, with around one in every two such households food insecure. One in five of the surveyed househo...   \n",
            "1   Considering the highly fluid and rapidly developing context in Ukraine, the food security situation is likely to continue to evolve over time. Continuous monitoring will be carried out to capture ...   \n",
            "2   Markets are impacted by the war, and predominantly in the east. In the northern and eastern oblasts, up to a third of people reported that shops in their local markets were partially or fully clos...   \n",
            "3   Since the onset of the war on 24 February 2022, the humanitarian situation in Ukraine has continued to deteriorate. The war has pushed millions of people from their homes, creating the fastest-gro...   \n",
            "4   At the national level, one in five of the interviewed households had inadequate current food consumption at the time of the survey. When combining this with households’ use of coping strategies su...   \n",
            "5                                                                                               Analyzing results by oblast, Luhanska had the highest share of households with inadequate food consumption    \n",
            "6                                                                                                        Households with a female decision-maker were more likely to have a poor or borderline consumption    \n",
            "7                                              Findings have shown that a higher percentage of households with male decision-makers continue to generate income from professional and skilled labour wages    \n",
            "8   In Kyiv city and the eastern and northern areas, this disruption appeared more pervasive, with around one in four respondents reporting that stores were not operating regularly in their neighbourh...   \n",
            "9   The survey findings also reflect increasing prices. Three quarters of all respondents reported having experienced significant increases in prices in the two weeks before the survey. Respondents in...   \n",
            "10                       Oblasts in the eastern and southern parts of the country were found to have the highest estimate levels of food insecurity, with one in every two households being food insecure.    \n",
            "11  Similarly, food prices rose by 84%, their largest increase in a comparable period since 2008. These increases in prices are having major humanitarian and economic impacts and exacerbating food ins...   \n",
            "12  The poverty and social impacts of the war will be massive. Simulations using the most recent macroeconomic projection show that the share of the population with incomes below the actual Subsistenc...   \n",
            "13  Ukraine’s critical human capital, a source of future growth, is at risk from the war’s interruption of learning. The priority is to keep students connected to the educational system so that they c...   \n",
            "14  Depending on the duration of the war, physical availability of food will deteriorate further, while rising inflation will severely affect the welfare of those already most vulnerable prior to the ...   \n",
            "\n",
            "                                                                                                                                                              SOURCE  \n",
            "0                                                                         World Food Programme, UN Country Team in Ukraine, Ukraine Food Security Report, 13/05/2022  \n",
            "1                                                                         World Food Programme, UN Country Team in Ukraine, Ukraine Food Security Report, 13/05/2022  \n",
            "2                                                                         World Food Programme, UN Country Team in Ukraine, Ukraine Food Security Report, 13/05/2022  \n",
            "3                                                                         World Food Programme, UN Country Team in Ukraine, Ukraine Food Security Report, 13/05/2022  \n",
            "4                                                                         World Food Programme, UN Country Team in Ukraine, Ukraine Food Security Report, 13/05/2022  \n",
            "5                                                                                                                                                                47%  \n",
            "6                                                                                                                                                               23 %  \n",
            "7                                                                                                                                                                38%  \n",
            "8                                                                         World Food Programme, UN Country Team in Ukraine, Ukraine Food Security Report, 13/05/2022  \n",
            "9                                                                         World Food Programme, UN Country Team in Ukraine, Ukraine Food Security Report, 13/05/2022  \n",
            "10                                                                        World Food Programme, UN Country Team in Ukraine, Ukraine Food Security Report, 13/05/2022  \n",
            "11                                                         World Bank, UN Country Team in Ukraine, The Impact of the War in Ukarine on Commodity Markets, 28/04/2022  \n",
            "12                                                                                                                                         the national poverty line  \n",
            "13  World Bank, UN Country Team in Ukraine, Relief, Recovery and Resilient Reconstruction Supporting Ukraine's Immediate and Medium- Term Economic Needs, 13/05/2022  \n",
            "14                                                                                            pensioners, people living on social assistance, and low-paid employees  \n"
          ]
        }
      ]
    },
    {
      "cell_type": "markdown",
      "metadata": {
        "id": "xfS_H8hQ-si9"
      },
      "source": [
        "# Sentence Clustering"
      ]
    },
    {
      "cell_type": "code",
      "source": [
        "#@title Setting the environment for sentence clustering { display-mode: \"form\" }\n",
        "from configparser import ConfigParser, ExtendedInterpolation\n",
        "from collections import defaultdict\n",
        "from itertools import combinations, product\n",
        "import warnings\n",
        "warnings.filterwarnings('ignore')\n",
        "from sklearn.feature_extraction.text import TfidfVectorizer\n",
        "\n",
        "\n",
        "# increase display of columns in pandas\n",
        "pd.set_option('display.max_colwidth', 200)"
      ],
      "metadata": {
        "id": "SkBI5ArsABSS"
      },
      "execution_count": null,
      "outputs": []
    },
    {
      "cell_type": "code",
      "metadata": {
        "id": "atIMlydOE_od",
        "colab": {
          "base_uri": "https://localhost:8080/"
        },
        "outputId": "2a2309e0-d31c-459d-fc7f-4670bda5954a"
      },
      "source": [
        "#@title Read text and remove duplicates { display-mode: \"form\" }\n",
        "# read text and source columns of excerpts\n",
        "EXCERPTS_CSV = r'output.csv'\n",
        "cols = ['TEXT', 'SOURCE']\n",
        "excerpts = pd.read_csv(EXCERPTS_CSV, encoding='latin-1', usecols=cols)\n",
        "\n",
        "# remove duplicates\n",
        "excerpts = excerpts[~excerpts.TEXT.duplicated()]\n",
        "\n",
        "excerpts.shape"
      ],
      "execution_count": null,
      "outputs": [
        {
          "output_type": "execute_result",
          "data": {
            "text/plain": [
              "(15, 2)"
            ]
          },
          "metadata": {},
          "execution_count": 38
        }
      ]
    },
    {
      "cell_type": "code",
      "metadata": {
        "id": "tZ0fv23l-si_"
      },
      "source": [
        "#@title Vectorizing the text { display-mode: \"form\" }\n",
        "# vectorize the text\n",
        "vect = TfidfVectorizer(min_df=.01, max_df=.95, norm='l2', stop_words='english', max_features=1000, ngram_range=(1,2))\n",
        "titles_vect = vect.fit_transform(excerpts['TEXT'])"
      ],
      "execution_count": null,
      "outputs": []
    },
    {
      "cell_type": "code",
      "metadata": {
        "id": "sm0KX9CI-si_",
        "colab": {
          "base_uri": "https://localhost:8080/"
        },
        "outputId": "d1c1ed44-ca2c-4b27-e074-23051a5492d9"
      },
      "source": [
        "#@title Clustering text using KMeans { vertical-output: true, display-mode: \"form\" }\n",
        "%%time\n",
        "\n",
        "# cluster the document using KMeans\n",
        "\n",
        "# step 1 - import the model\n",
        "from sklearn.cluster import KMeans\n",
        "\n",
        "# step 2 - instantiate the model\n",
        "number_of_clusters = 5\n",
        "\n",
        "km = KMeans(n_clusters=number_of_clusters, random_state=42)\n",
        "\n",
        "# step 3 - fit the model with data\n",
        "# clustering is unsupervised so we do not have labels to add during .fit()\n",
        "km.fit(titles_vect)\n",
        "\n",
        "# step 4 - predict the cluster of each section_title\n",
        "excerpts['clusters'] = km.predict(titles_vect)"
      ],
      "execution_count": null,
      "outputs": [
        {
          "output_type": "stream",
          "name": "stdout",
          "text": [
            "CPU times: user 111 ms, sys: 954 µs, total: 112 ms\n",
            "Wall time: 65.7 ms\n"
          ]
        }
      ]
    },
    {
      "cell_type": "code",
      "metadata": {
        "id": "n8l7jQ72-sjF",
        "colab": {
          "base_uri": "https://localhost:8080/"
        },
        "outputId": "0dcee12c-6cf3-4d96-dc2c-f7d0c72cd022"
      },
      "source": [
        "#@title Clustered text: { vertical-output: true, display-mode: \"form\" }\n",
        "def review_clusters(df, n_clusters):\n",
        "\n",
        "  with open('clustered.txt', 'a') as f:\n",
        "    for cl_num in range(n_clusters):\n",
        "      print(cl_num)\n",
        "      print(excerpts[df.clusters == cl_num][['TEXT', 'SOURCE']].values[0:10])\n",
        "      print()\n",
        "      f.write(str(excerpts[df.clusters == cl_num]['TEXT'].values[0:10]))\n",
        "\n",
        "review_clusters(excerpts, n_clusters=number_of_clusters)"
      ],
      "execution_count": null,
      "outputs": [
        {
          "output_type": "stream",
          "name": "stdout",
          "text": [
            "0\n",
            "[['The survey findings also reflect increasing prices. Three quarters of all respondents reported having experienced significant increases in prices in the two weeks before the survey. Respondents in the eastern, southern, and northern parts of the country were more likely to report price increases, with the figure going up to 90% in the Sumska oblast and over 80% in Donetska, Luhanska, Odeska, Khersonska, Kharkivska, and Chernihivska oblasts. According to data from the Ukrainian Statistical Service, bread prices went up by 3.5-4.3% in March nationwide, with increases up to around 30 percent in the Kherson oblast. '\n",
            "  'World Food Programme, UN Country Team in Ukraine, Ukraine Food Security Report, 13/05/2022']\n",
            " ['Oblasts in the eastern and southern parts of the country were found to have the highest estimate levels of food insecurity, with one in every two households being food insecure. '\n",
            "  'World Food Programme, UN Country Team in Ukraine, Ukraine Food Security Report, 13/05/2022']\n",
            " ['Similarly, food prices rose by 84%, their largest increase in a comparable period since 2008. These increases in prices are having major humanitarian and economic impacts and exacerbating food insecurity and inflation in many countries. '\n",
            "  'World Bank, UN Country Team in Ukraine, The Impact of the War in Ukarine on Commodity Markets, 28/04/2022']]\n",
            "\n",
            "1\n",
            "[['Markets are impacted by the war, and predominantly in the east. In the northern and eastern oblasts, up to a third of people reported that shops in their local markets were partially or fully closed at the time of the survey. More than half of respondents in Kyiv city and the north, east, and south oblasts reported that some products were scarce, mentioning food stuffs such as grains, bread, dairy, and meat. '\n",
            "  'World Food Programme, UN Country Team in Ukraine, Ukraine Food Security Report, 13/05/2022']\n",
            " ['In Kyiv city and the eastern and northern areas, this disruption appeared more pervasive, with around one in four respondents reporting that stores were not operating regularly in their neighbourhoods at the time of the survey, and another 20% of respondents reported that the stores were only partially functioning '\n",
            "  'World Food Programme, UN Country Team in Ukraine, Ukraine Food Security Report, 13/05/2022']]\n",
            "\n",
            "2\n",
            "[['The poverty and social impacts of the war will be massive. Simulations using the most recent macroeconomic projection show that the share of the population with incomes below the actual Subsistence Minimum '\n",
            "  'the national poverty line']\n",
            " ['Ukraineâ\\x80\\x99s critical human capital, a source of future growth, is at risk from the warâ\\x80\\x99s interruption of learning. The priority is to keep students connected to the educational system so that they can complete the school year. This also requires that educators remain accessible and available to students, including through online learning. '\n",
            "  \"World Bank, UN Country Team in Ukraine, Relief, Recovery and Resilient Reconstruction Supporting Ukraine's Immediate and Medium- Term Economic Needs, 13/05/2022\"]]\n",
            "\n",
            "3\n",
            "[['Households that are displaced or those separated from each other were found to be the most impacted, with around one in every two such households food insecure. One in five of the surveyed households had inadequate food consumption at the time of the survey. '\n",
            "  'World Food Programme, UN Country Team in Ukraine, Ukraine Food Security Report, 13/05/2022']\n",
            " ['At the national level, one in five of the interviewed households had inadequate current food consumption at the time of the survey. When combining this with householdsâ\\x80\\x99 use of coping strategies such as borrowing money or leaving valuable assets behind when displacing, as well as relying on erratic income sources or total income loss, food insecurity estimates rise to approximately one in three, nationwide. It is important to note that out of the 33% estimated to be food insecure according to the rCARI scale, only 5% were found to be severely food insecure, meaning facing extreme food consumption gaps or extreme loss of livelihood assets. '\n",
            "  'World Food Programme, UN Country Team in Ukraine, Ukraine Food Security Report, 13/05/2022']\n",
            " ['Analyzing results by oblast, Luhanska had the highest share of households with inadequate food consumption '\n",
            "  '47%']\n",
            " ['Households with a female decision-maker were more likely to have a poor or borderline consumption '\n",
            "  '23 %']\n",
            " ['Findings have shown that a higher percentage of households with male decision-makers continue to generate income from professional and skilled labour wages '\n",
            "  '38%']]\n",
            "\n",
            "4\n",
            "[['Considering the highly fluid and rapidly developing context in Ukraine, the food security situation is likely to continue to evolve over time. Continuous monitoring will be carried out to capture such changes as the situation unfolds. Two in every three households reported relying on less preferred and less expensive food '\n",
            "  'World Food Programme, UN Country Team in Ukraine, Ukraine Food Security Report, 13/05/2022']\n",
            " ['Since the onset of the war on 24 February 2022, the humanitarian situation in Ukraine has continued to deteriorate. The war has pushed millions of people from their homes, creating the fastest-growing displacement crisis since the second world war. Eastern and southern oblasts in Ukraine continue to see active fighting. The destruction of civilian infrastructure is affecting essential services such as electricity, heating, and clean water and disrupting access to food and healthcare. '\n",
            "  'World Food Programme, UN Country Team in Ukraine, Ukraine Food Security Report, 13/05/2022']\n",
            " ['Depending on the duration of the war, physical availability of food will deteriorate further, while rising inflation will severely affect the welfare of those already most vulnerable prior to the crisis '\n",
            "  'pensioners, people living on social assistance, and low-paid employees']]\n",
            "\n"
          ]
        }
      ]
    },
    {
      "cell_type": "markdown",
      "source": [
        "### Evaluation and summary (Using Extractive methods)"
      ],
      "metadata": {
        "id": "6GYx1jLDb9nc"
      }
    },
    {
      "cell_type": "code",
      "metadata": {
        "id": "8sBrWmf7vRSn",
        "colab": {
          "base_uri": "https://localhost:8080/"
        },
        "outputId": "15524846-095f-4e2e-c62a-cb110f8b2cbe"
      },
      "source": [
        "#@title Creating extractive summary that covers all clusters. { vertical-output: true, display-mode: \"form\" }\n",
        "import nltk\n",
        "from nltk.corpus import stopwords\n",
        "from nltk.cluster.util import cosine_distance\n",
        "import numpy as np\n",
        "import networkx as nx\n",
        " \n",
        "def read_article(file_name):\n",
        "    file = open(file_name, \"r\")\n",
        "    article = file.readlines()\n",
        "    sentences = []\n",
        "\n",
        "    for sentence in article:\n",
        "#        print(sentence)\n",
        "        sentences.append(sentence.replace(\"'\", \"\").split(\"\\n\"))\n",
        "#        sentences.append(sentence.replace(\"[^a-zA-Z]\", \" \").split(\" \"))\n",
        "    sentences.pop() \n",
        "    \n",
        "    return sentences\n",
        "\n",
        "def sentence_similarity(sent1, sent2, stopwords=None):\n",
        "    if stopwords is None:\n",
        "        stopwords = []\n",
        " \n",
        "    sent1 = [w.lower() for w in sent1]\n",
        "    sent2 = [w.lower() for w in sent2]\n",
        " \n",
        "    all_words = list(set(sent1 + sent2))\n",
        " \n",
        "    vector1 = [0] * len(all_words)\n",
        "    vector2 = [0] * len(all_words)\n",
        " \n",
        "    # build the vector for the first sentence\n",
        "    for w in sent1:\n",
        "        if w in stopwords:\n",
        "            continue\n",
        "        vector1[all_words.index(w)] += 1\n",
        " \n",
        "    # build the vector for the second sentence\n",
        "    for w in sent2:\n",
        "        if w in stopwords:\n",
        "            continue\n",
        "        vector2[all_words.index(w)] += 1\n",
        " \n",
        "    return 1 - cosine_distance(vector1, vector2)\n",
        " \n",
        "def build_similarity_matrix(sentences, stop_words):\n",
        "    # Create an empty similarity matrix\n",
        "    similarity_matrix = np.zeros((len(sentences), len(sentences)))\n",
        " \n",
        "    for idx1 in range(len(sentences)):\n",
        "        for idx2 in range(len(sentences)):\n",
        "            if idx1 == idx2: #ignore if both are same sentences\n",
        "                continue \n",
        "            similarity_matrix[idx1][idx2] = sentence_similarity(sentences[idx1], sentences[idx2], stop_words)\n",
        "\n",
        "    return similarity_matrix\n",
        "\n",
        "\n",
        "def generate_summary(file_name, top_n=number_of_clusters + 5):\n",
        "    nltk.download(\"stopwords\")\n",
        "    stop_words = stopwords.words('english')\n",
        "    summarize_text = []\n",
        "\n",
        "    # Step 1 - Read text anc split it\n",
        "    sentences =  read_article(file_name)\n",
        "\n",
        "    # Step 2 - Generate Similary Martix across sentences\n",
        "    sentence_similarity_martix = build_similarity_matrix(sentences, stop_words)\n",
        "\n",
        "    # Step 3 - Rank sentences in similarity martix\n",
        "    sentence_similarity_graph = nx.from_numpy_array(sentence_similarity_martix)\n",
        "    scores = nx.pagerank(sentence_similarity_graph)\n",
        "\n",
        "    # Step 4 - Sort the rank and pick top sentences\n",
        "    ranked_sentence = sorted(((scores[i],s) for i,s in enumerate(sentences)), reverse=True)    \n",
        "    print(\"Indexes of top ranked_sentence order are \", ranked_sentence)    \n",
        "\n",
        "    for i in range(top_n):\n",
        "      summarize_text.append(\" \".join(ranked_sentence[i][1]))\n",
        "\n",
        "    # Step 5 - Offcourse, output the summarize texr\n",
        "    summary =  \" \".join(summarize_text)\n",
        "    print(\"Summarize Text: \\n\", summary)\n",
        "\n",
        "    # Write output to file\n",
        "    with open('extractive.txt', 'w') as f:\n",
        "      f.write(summary)\n",
        "\n",
        "# let's begin\n",
        "generate_summary( \"clustered.txt\", number_of_clusters)\n"
      ],
      "execution_count": null,
      "outputs": [
        {
          "output_type": "stream",
          "name": "stdout",
          "text": [
            "Indexes of top ranked_sentence order are  [(0.03001374981180622, [' Since the onset of the war on 24 February 2022, the humanitarian situation in Ukraine has continued to deteriorate. The war has pushed millions of people from their homes, creating the fastest-growing displacement crisis since the second world war. Eastern and southern oblasts in Ukraine continue to see active fighting. The destruction of civilian infrastructure is affecting essential services such as electricity, heating, and clean water and disrupting access to food and healthcare. ', '']), (0.03001374981180622, [' Since the onset of the war on 24 February 2022, the humanitarian situation in Ukraine has continued to deteriorate. The war has pushed millions of people from their homes, creating the fastest-growing displacement crisis since the second world war. Eastern and southern oblasts in Ukraine continue to see active fighting. The destruction of civilian infrastructure is affecting essential services such as electricity, heating, and clean water and disrupting access to food and healthcare. ', '']), (0.03001374981180622, [' Since the onset of the war on 24 February 2022, the humanitarian situation in Ukraine has continued to deteriorate. The war has pushed millions of people from their homes, creating the fastest-growing displacement crisis since the second world war. Eastern and southern oblasts in Ukraine continue to see active fighting. The destruction of civilian infrastructure is affecting essential services such as electricity, heating, and clean water and disrupting access to food and healthcare. ', '']), (0.03001374981180622, [' Oblasts in the eastern and southern parts of the country were found to have the highest estimate levels of food insecurity, with one in every two households being food insecure. ', '']), (0.03001374981180622, [' Households with a female decision-maker were more likely to have a poor or borderline consumption ', '']), (0.03001374981180622, [' Households with a female decision-maker were more likely to have a poor or borderline consumption ', '']), (0.03001374981180622, [' Households with a female decision-maker were more likely to have a poor or borderline consumption ', '']), (0.03001374981180622, [' At the national level, one in five of the interviewed households had inadequate current food consumption at the time of the survey. When combining this with householdsâ\\\\x80\\\\x99 use of coping strategies such as borrowing money or leaving valuable assets behind when displacing, as well as relying on erratic income sources or total income loss, food insecurity estimates rise to approximately one in three, nationwide. It is important to note that out of the 33% estimated to be food insecure according to the rCARI scale, only 5% were found to be severely food insecure, meaning facing extreme food consumption gaps or extreme loss of livelihood assets. ', '']), (0.03001374981180622, [' At the national level, one in five of the interviewed households had inadequate current food consumption at the time of the survey. When combining this with householdsâ\\\\x80\\\\x99 use of coping strategies such as borrowing money or leaving valuable assets behind when displacing, as well as relying on erratic income sources or total income loss, food insecurity estimates rise to approximately one in three, nationwide. It is important to note that out of the 33% estimated to be food insecure according to the rCARI scale, only 5% were found to be severely food insecure, meaning facing extreme food consumption gaps or extreme loss of livelihood assets. ', '']), (0.03001374981180622, [' At the national level, one in five of the interviewed households had inadequate current food consumption at the time of the survey. When combining this with householdsâ\\\\x80\\\\x99 use of coping strategies such as borrowing money or leaving valuable assets behind when displacing, as well as relying on erratic income sources or total income loss, food insecurity estimates rise to approximately one in three, nationwide. It is important to note that out of the 33% estimated to be food insecure according to the rCARI scale, only 5% were found to be severely food insecure, meaning facing extreme food consumption gaps or extreme loss of livelihood assets. ', '']), (0.03001374981180622, [' Analyzing results by oblast, Luhanska had the highest share of households with inadequate food consumption ', '']), (0.03001374981180622, [' Analyzing results by oblast, Luhanska had the highest share of households with inadequate food consumption ', '']), (0.03001374981180622, [' Analyzing results by oblast, Luhanska had the highest share of households with inadequate food consumption ', '']), (0.030013749811806215, [' Oblasts in the eastern and southern parts of the country were found to have the highest estimate levels of food insecurity, with one in every two households being food insecure. ', '']), (0.030013749811806215, [' Oblasts in the eastern and southern parts of the country were found to have the highest estimate levels of food insecurity, with one in every two households being food insecure. ', '']), (0.029284846852983965, [' Ukraineâ\\\\x80\\\\x99s critical human capital, a source of future growth, is at risk from the warâ\\\\x80\\\\x99s interruption of learning. The priority is to keep students connected to the educational system so that they can complete the school year. This also requires that educators remain accessible and available to students, including through online learning. ][Households that are displaced or those separated from each other were found to be the most impacted, with around one in every two such households food insecure. One in five of the surveyed households had inadequate food consumption at the time of the survey. ', '']), (0.029284846852983965, [' Similarly, food prices rose by 84%, their largest increase in a comparable period since 2008. These increases in prices are having major humanitarian and economic impacts and exacerbating food insecurity and inflation in many countries. ][Markets are impacted by the war, and predominantly in the east. In the northern and eastern oblasts, up to a third of people reported that shops in their local markets were partially or fully closed at the time of the survey. More than half of respondents in Kyiv city and the north, east, and south oblasts reported that some products were scarce, mentioning food stuffs such as grains, bread, dairy, and meat. ', '']), (0.029284846852983965, [' Similarly, food prices rose by 84%, their largest increase in a comparable period since 2008. These increases in prices are having major humanitarian and economic impacts and exacerbating food insecurity and inflation in many countries. ][Markets are impacted by the war, and predominantly in the east. In the northern and eastern oblasts, up to a third of people reported that shops in their local markets were partially or fully closed at the time of the survey. More than half of respondents in Kyiv city and the north, east, and south oblasts reported that some products were scarce, mentioning food stuffs such as grains, bread, dairy, and meat. ', '']), (0.029284846852983965, [' In Kyiv city and the eastern and northern areas, this disruption appeared more pervasive, with around one in four respondents reporting that stores were not operating regularly in their neighbourhoods at the time of the survey, and another 20% of respondents reported that the stores were only partially functioning ][The poverty and social impacts of the war will be massive. Simulations using the most recent macroeconomic projection show that the share of the population with incomes below the actual Subsistence Minimum ', '']), (0.029284846852983965, [' In Kyiv city and the eastern and northern areas, this disruption appeared more pervasive, with around one in four respondents reporting that stores were not operating regularly in their neighbourhoods at the time of the survey, and another 20% of respondents reported that the stores were only partially functioning ][The poverty and social impacts of the war will be massive. Simulations using the most recent macroeconomic projection show that the share of the population with incomes below the actual Subsistence Minimum ', '']), (0.029284846852983965, [' Findings have shown that a higher percentage of households with male decision-makers continue to generate income from professional and skilled labour wages ][Considering the highly fluid and rapidly developing context in Ukraine, the food security situation is likely to continue to evolve over time. Continuous monitoring will be carried out to capture such changes as the situation unfolds. Two in every three households reported relying on less preferred and less expensive food ', '']), (0.029284846852983965, [' Depending on the duration of the war, physical availability of food will deteriorate further, while rising inflation will severely affect the welfare of those already most vulnerable prior to the crisis ][The survey findings also reflect increasing prices. Three quarters of all respondents reported having experienced significant increases in prices in the two weeks before the survey. Respondents in the eastern, southern, and northern parts of the country were more likely to report price increases, with the figure going up to 90% in the Sumska oblast and over 80% in Donetska, Luhanska, Odeska, Khersonska, Kharkivska, and Chernihivska oblasts. According to data from the Ukrainian Statistical Service, bread prices went up by 3.5-4.3% in March nationwide, with increases up to around 30 percent in the Kherson oblast. ', '']), (0.029284846852983965, [' Depending on the duration of the war, physical availability of food will deteriorate further, while rising inflation will severely affect the welfare of those already most vulnerable prior to the crisis ][The survey findings also reflect increasing prices. Three quarters of all respondents reported having experienced significant increases in prices in the two weeks before the survey. Respondents in the eastern, southern, and northern parts of the country were more likely to report price increases, with the figure going up to 90% in the Sumska oblast and over 80% in Donetska, Luhanska, Odeska, Khersonska, Kharkivska, and Chernihivska oblasts. According to data from the Ukrainian Statistical Service, bread prices went up by 3.5-4.3% in March nationwide, with increases up to around 30 percent in the Kherson oblast. ', '']), (0.02928484685298396, [' Ukraineâ\\\\x80\\\\x99s critical human capital, a source of future growth, is at risk from the warâ\\\\x80\\\\x99s interruption of learning. The priority is to keep students connected to the educational system so that they can complete the school year. This also requires that educators remain accessible and available to students, including through online learning. ][Households that are displaced or those separated from each other were found to be the most impacted, with around one in every two such households food insecure. One in five of the surveyed households had inadequate food consumption at the time of the survey. ', '']), (0.02928484685298396, [' Findings have shown that a higher percentage of households with male decision-makers continue to generate income from professional and skilled labour wages ][Considering the highly fluid and rapidly developing context in Ukraine, the food security situation is likely to continue to evolve over time. Continuous monitoring will be carried out to capture such changes as the situation unfolds. Two in every three households reported relying on less preferred and less expensive food ', '']), (0.028549476032562967, ['[The poverty and social impacts of the war will be massive. Simulations using the most recent macroeconomic projection show that the share of the population with incomes below the actual Subsistence Minimum ', '']), (0.028549476032562967, ['[Markets are impacted by the war, and predominantly in the east. In the northern and eastern oblasts, up to a third of people reported that shops in their local markets were partially or fully closed at the time of the survey. More than half of respondents in Kyiv city and the north, east, and south oblasts reported that some products were scarce, mentioning food stuffs such as grains, bread, dairy, and meat. ', '']), (0.028549476032562967, ['[Households that are displaced or those separated from each other were found to be the most impacted, with around one in every two such households food insecure. One in five of the surveyed households had inadequate food consumption at the time of the survey. ', '']), (0.028549476032562967, ['[Considering the highly fluid and rapidly developing context in Ukraine, the food security situation is likely to continue to evolve over time. Continuous monitoring will be carried out to capture such changes as the situation unfolds. Two in every three households reported relying on less preferred and less expensive food ', '']), (0.028549476032562967, [' Ukraineâ\\\\x80\\\\x99s critical human capital, a source of future growth, is at risk from the warâ\\\\x80\\\\x99s interruption of learning. The priority is to keep students connected to the educational system so that they can complete the school year. This also requires that educators remain accessible and available to students, including through online learning. ]', '']), (0.028549476032562967, [' Similarly, food prices rose by 84%, their largest increase in a comparable period since 2008. These increases in prices are having major humanitarian and economic impacts and exacerbating food insecurity and inflation in many countries. ]', '']), (0.028549476032562967, [' In Kyiv city and the eastern and northern areas, this disruption appeared more pervasive, with around one in four respondents reporting that stores were not operating regularly in their neighbourhoods at the time of the survey, and another 20% of respondents reported that the stores were only partially functioning ]', '']), (0.028549476032562967, [' Findings have shown that a higher percentage of households with male decision-makers continue to generate income from professional and skilled labour wages ]', '']), (0.028549476032562963, ['[The survey findings also reflect increasing prices. Three quarters of all respondents reported having experienced significant increases in prices in the two weeks before the survey. Respondents in the eastern, southern, and northern parts of the country were more likely to report price increases, with the figure going up to 90% in the Sumska oblast and over 80% in Donetska, Luhanska, Odeska, Khersonska, Kharkivska, and Chernihivska oblasts. According to data from the Ukrainian Statistical Service, bread prices went up by 3.5-4.3% in March nationwide, with increases up to around 30 percent in the Kherson oblast. ', ''])]\n",
            "Summarize Text: \n",
            "  Since the onset of the war on 24 February 2022, the humanitarian situation in Ukraine has continued to deteriorate. The war has pushed millions of people from their homes, creating the fastest-growing displacement crisis since the second world war. Eastern and southern oblasts in Ukraine continue to see active fighting. The destruction of civilian infrastructure is affecting essential services such as electricity, heating, and clean water and disrupting access to food and healthcare.    Since the onset of the war on 24 February 2022, the humanitarian situation in Ukraine has continued to deteriorate. The war has pushed millions of people from their homes, creating the fastest-growing displacement crisis since the second world war. Eastern and southern oblasts in Ukraine continue to see active fighting. The destruction of civilian infrastructure is affecting essential services such as electricity, heating, and clean water and disrupting access to food and healthcare.    Since the onset of the war on 24 February 2022, the humanitarian situation in Ukraine has continued to deteriorate. The war has pushed millions of people from their homes, creating the fastest-growing displacement crisis since the second world war. Eastern and southern oblasts in Ukraine continue to see active fighting. The destruction of civilian infrastructure is affecting essential services such as electricity, heating, and clean water and disrupting access to food and healthcare.    Oblasts in the eastern and southern parts of the country were found to have the highest estimate levels of food insecurity, with one in every two households being food insecure.    Households with a female decision-maker were more likely to have a poor or borderline consumption  \n"
          ]
        },
        {
          "output_type": "stream",
          "name": "stderr",
          "text": [
            "[nltk_data] Downloading package stopwords to /root/nltk_data...\n",
            "[nltk_data]   Package stopwords is already up-to-date!\n"
          ]
        }
      ]
    },
    {
      "cell_type": "markdown",
      "source": [
        "**After these checkpoint, summary looks like that:**\n",
        "\n",
        "Since the onset of the war on 24 February 2022, the humanitarian situation in Ukraine has continued to deteriorate. The war has pushed millions of people from their homes, creating the fastest-growing displacement crisis since the second world war. Eastern and southern oblasts in Ukraine continue to see active fighting. The destruction of civilian infrastructure is affecting essential services such as electricity, heating, and clean water and disrupting access to food and healthcare.    Since the onset of the war on 24 February 2022, the humanitarian situation in Ukraine has continued to deteriorate. The war has pushed millions of people from their homes, creating the fastest-growing displacement crisis since the second world war. Eastern and southern oblasts in Ukraine continue to see active fighting. The destruction of civilian infrastructure is affecting essential services such as electricity, heating, and clean water and disrupting access to food and healthcare.    Since the onset of the war on 24 February 2022, the humanitarian situation in Ukraine has continued to deteriorate. The war has pushed millions of people from their homes, creating the fastest-growing displacement crisis since the second world war. Eastern and southern oblasts in Ukraine continue to see active fighting. The destruction of civilian infrastructure is affecting essential services such as electricity, heating, and clean water and disrupting access to food and healthcare.    Oblasts in the eastern and southern parts of the country were found to have the highest estimate levels of food insecurity, with one in every two households being food insecure.    Households with a female decision-maker were more likely to have a poor or borderline consumption  "
      ],
      "metadata": {
        "id": "d71KcwG-bkwr"
      }
    },
    {
      "cell_type": "markdown",
      "source": [
        "\n",
        "### Evaluation and summary (Using Abstractive methods)"
      ],
      "metadata": {
        "id": "TCI86MnsixlR"
      }
    },
    {
      "cell_type": "code",
      "source": [
        "#@title Setting up the environment for abstractive summary { display-mode: \"form\" }\n",
        "!pip install torch\n",
        "!pip install transformers\n",
        "!pip install bert-extractive-summarizer\n",
        "!pip install sentencepiece\n",
        "from summarizer import TransformerSummarizer\n"
      ],
      "metadata": {
        "id": "-U_QioIni7Ac"
      },
      "execution_count": null,
      "outputs": []
    },
    {
      "cell_type": "code",
      "source": [
        "#@title Creating extractive summary with XLNet model. { vertical-output: true, display-mode: \"form\" }\n",
        "with open('extractive.txt', 'r') as f:\n",
        "  sentence_bag = f.read()\n",
        "\n",
        "  model = TransformerSummarizer(transformer_type=\"XLNet\",transformer_model_key=\"xlnet-base-cased\")\n",
        "  key_findings = ''.join(model(sentence_bag, min_length=60))\n",
        "  \n",
        "  print(key_findings)\n",
        "  # Write output to file\n",
        "  with open('abstractive.txt', 'w') as f1:\n",
        "    f1.write(key_findings)"
      ],
      "metadata": {
        "colab": {
          "base_uri": "https://localhost:8080/"
        },
        "id": "NSYc8yIarug4",
        "outputId": "778fc784-a351-44a2-ba75-35407e077b8d"
      },
      "execution_count": null,
      "outputs": [
        {
          "output_type": "stream",
          "name": "stderr",
          "text": [
            "Some weights of the model checkpoint at xlnet-base-cased were not used when initializing XLNetModel: ['lm_loss.weight', 'lm_loss.bias']\n",
            "- This IS expected if you are initializing XLNetModel from the checkpoint of a model trained on another task or with another architecture (e.g. initializing a BertForSequenceClassification model from a BertForPreTraining model).\n",
            "- This IS NOT expected if you are initializing XLNetModel from the checkpoint of a model that you expect to be exactly identical (initializing a BertForSequenceClassification model from a BertForSequenceClassification model).\n"
          ]
        },
        {
          "output_type": "stream",
          "name": "stdout",
          "text": [
            "Since the onset of the war on 24 February 2022, the humanitarian situation in Ukraine has continued to deteriorate. The war has pushed millions of people from their homes, creating the fastest-growing displacement crisis since the second world war. The destruction of civilian infrastructure is affecting essential services such as electricity, heating, and clean water and disrupting access to food and healthcare.\n"
          ]
        }
      ]
    },
    {
      "cell_type": "markdown",
      "source": [
        "**Final summary:**\n",
        "\n",
        "Since the onset of the war on 24 February 2022, the humanitarian situation in Ukraine has continued to deteriorate. The war has pushed millions of people from their homes, creating the fastest-growing displacement crisis since the second world war. The destruction of civilian infrastructure is affecting essential services such as electricity, heating, and clean water and disrupting access to food and healthcare."
      ],
      "metadata": {
        "id": "8TsT4GC_c99S"
      }
    }
  ]
}